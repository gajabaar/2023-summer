{
 "cells": [
  {
   "cell_type": "code",
   "execution_count": 1,
   "metadata": {},
   "outputs": [],
   "source": [
    "from Crypto.Cipher import AES\n",
    "from Crypto.Random import get_random_bytes\n",
    "from Crypto.Util.Padding import pad"
   ]
  },
  {
   "cell_type": "code",
   "execution_count": null,
   "metadata": {},
   "outputs": [],
   "source": []
  },
  {
   "cell_type": "code",
   "execution_count": 95,
   "metadata": {},
   "outputs": [
    {
     "name": "stdout",
     "output_type": "stream",
     "text": [
      "Actual Mode: CBC, Detected Mode: CBC\n",
      "Actual Mode: CBC, Detected Mode: CBC\n",
      "Actual Mode: ECB, Detected Mode: CBC\n",
      "Actual Mode: ECB, Detected Mode: CBC\n",
      "Actual Mode: CBC, Detected Mode: CBC\n",
      "Actual Mode: CBC, Detected Mode: CBC\n",
      "Actual Mode: ECB, Detected Mode: CBC\n",
      "Actual Mode: ECB, Detected Mode: CBC\n",
      "Actual Mode: CBC, Detected Mode: CBC\n",
      "Actual Mode: ECB, Detected Mode: CBC\n"
     ]
    }
   ],
   "source": [
    "def generate_random_key():\n",
    "    return get_random_bytes(16)\n",
    "\n",
    "def encryption_oracle(data):\n",
    "    prefix = get_random_bytes(5 + (get_random_bytes(1)[0] % 6))\n",
    "    suffix = get_random_bytes(5 + (get_random_bytes(1)[0] % 6))\n",
    "    data = pad(prefix + data + suffix, AES.block_size)\n",
    "\n",
    "    key = generate_random_key()\n",
    "    use_ecb = get_random_bytes(1)[0] % 2 == 0\n",
    "\n",
    "    if use_ecb:\n",
    "        cipher = AES.new(key, AES.MODE_ECB)\n",
    "        ciphertext = cipher.encrypt(data)\n",
    "    else:\n",
    "        iv = get_random_bytes(AES.block_size)\n",
    "        cipher = AES.new(key, AES.MODE_CBC, iv=iv)\n",
    "        ciphertext = cipher.encrypt(data)\n",
    "\n",
    "    return ciphertext, use_ecb\n",
    "\n",
    "def detect_block_cipher_mode(ciphertext):\n",
    "    # Check for repeated blocks to detect ECB mode\n",
    "    block_size = AES.block_size\n",
    "    blocks = [ciphertext[i:i + block_size] for i in range(0, len(ciphertext), block_size)]\n",
    "\n",
    "    # Check for identical adjacent blocks\n",
    "    for i in range(1, len(blocks)):\n",
    "        if blocks[i] == blocks[i - 1]:\n",
    "            return \"ECB\"\n",
    "\n",
    "    return \"CBC\"\n",
    "\n",
    "if __name__ == \"__main__\":\n",
    "    # Example usage\n",
    "    for _ in range(10):\n",
    "        plaintext = b'YELLOW SUBMARINE\\x04\\x04\\x04\\x04'\n",
    "        ciphertext, actual_mode = encryption_oracle(plaintext)\n",
    "        detected_mode = detect_block_cipher_mode(ciphertext)\n",
    "\n",
    "        # Convert actual_mode to a string for printing\n",
    "        actual_mode_str = \"ECB\" if actual_mode else \"CBC\"\n",
    "\n",
    "        print(f\"Actual Mode: {actual_mode_str}, Detected Mode: {detected_mode}\")\n"
   ]
  },
  {
   "cell_type": "code",
   "execution_count": null,
   "metadata": {},
   "outputs": [],
   "source": []
  }
 ],
 "metadata": {
  "kernelspec": {
   "display_name": "Python 3",
   "language": "python",
   "name": "python3"
  },
  "language_info": {
   "codemirror_mode": {
    "name": "ipython",
    "version": 3
   },
   "file_extension": ".py",
   "mimetype": "text/x-python",
   "name": "python",
   "nbconvert_exporter": "python",
   "pygments_lexer": "ipython3",
   "version": "3.11.7"
  }
 },
 "nbformat": 4,
 "nbformat_minor": 2
}
