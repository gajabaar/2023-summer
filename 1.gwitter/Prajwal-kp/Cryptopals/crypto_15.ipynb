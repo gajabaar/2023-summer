{
 "cells": [
  {
   "cell_type": "code",
   "execution_count": 43,
   "metadata": {},
   "outputs": [],
   "source": [
    "def remove_padding(data):\n",
    "    block_size=16\n",
    "    if len(data) % block_size!=0:\n",
    "        raise ValueError(\"Invalid padding length\")\n",
    "    padding_length = data[-1]\n",
    "    print(data[-padding_length:])\n",
    "    print(padding_length)\n",
    "    if padding_length == 0 or padding_length > block_size:\n",
    "        raise ValueError(\"Invalid padding length\")\n",
    "    if data[-padding_length:] != bytes([padding_length]) * padding_length:\n",
    "        raise ValueError(\"Invalid padding bytes\")\n",
    "    return data[:-padding_length]"
   ]
  },
  {
   "cell_type": "code",
   "execution_count": 47,
   "metadata": {},
   "outputs": [
    {
     "name": "stdout",
     "output_type": "stream",
     "text": [
      "b'\\x04\\x04\\x04\\x04'\n",
      "4\n"
     ]
    },
    {
     "data": {
      "text/plain": [
       "b'ICE ICE BABY'"
      ]
     },
     "execution_count": 47,
     "metadata": {},
     "output_type": "execute_result"
    }
   ],
   "source": [
    "text=b\"ICE ICE BABY\\x04\\x04\\x04\\x04\"\n",
    "remove_padding(text)"
   ]
  }
 ],
 "metadata": {
  "kernelspec": {
   "display_name": "Python 3",
   "language": "python",
   "name": "python3"
  },
  "language_info": {
   "codemirror_mode": {
    "name": "ipython",
    "version": 3
   },
   "file_extension": ".py",
   "mimetype": "text/x-python",
   "name": "python",
   "nbconvert_exporter": "python",
   "pygments_lexer": "ipython3",
   "version": "3.11.7"
  }
 },
 "nbformat": 4,
 "nbformat_minor": 2
}
