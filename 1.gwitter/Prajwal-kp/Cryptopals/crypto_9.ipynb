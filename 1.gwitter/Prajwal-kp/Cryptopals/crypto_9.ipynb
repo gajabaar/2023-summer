{
 "cells": [
  {
   "cell_type": "code",
   "execution_count": 7,
   "metadata": {},
   "outputs": [
    {
     "name": "stdout",
     "output_type": "stream",
     "text": [
      "16\n",
      "b'\\x04\\x04\\x04\\x04'\n",
      "Original Data: b'YELLOW SUBMARINE'\n",
      "Padded Data: b'YELLOW SUBMARINE\\x04\\x04\\x04\\x04'\n"
     ]
    }
   ],
   "source": [
    "def pkcs7_pad(data, block_size):\n",
    "    padding_length = block_size - (len(data) % block_size)\n",
    "    print(len(data))\n",
    "    padding = bytes([padding_length] * padding_length)\n",
    "    print(padding)\n",
    "    return data + padding\n",
    "\n",
    "# Example usage:\n",
    "plaintext = b\"YELLOW SUBMARINE\"\n",
    "block_size = 20 # Replace this with the desired block size\n",
    "\n",
    "padded_data = pkcs7_pad(plaintext, block_size)\n",
    "print(\"Original Data:\", plaintext)\n",
    "print(\"Padded Data:\", padded_data)\n"
   ]
  }
 ],
 "metadata": {
  "kernelspec": {
   "display_name": "Python 3",
   "language": "python",
   "name": "python3"
  },
  "language_info": {
   "codemirror_mode": {
    "name": "ipython",
    "version": 3
   },
   "file_extension": ".py",
   "mimetype": "text/x-python",
   "name": "python",
   "nbconvert_exporter": "python",
   "pygments_lexer": "ipython3",
   "version": "3.11.7"
  }
 },
 "nbformat": 4,
 "nbformat_minor": 2
}
