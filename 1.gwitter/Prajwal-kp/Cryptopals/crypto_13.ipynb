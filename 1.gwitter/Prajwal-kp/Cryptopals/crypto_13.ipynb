{
 "cells": [
  {
   "cell_type": "code",
   "execution_count": 3,
   "metadata": {},
   "outputs": [],
   "source": [
    "def parse_kv_string(kv_string):\n",
    "    result={}\n",
    "    pairs=kv_string.split(\"&\")\n",
    "    for pair in pairs:\n",
    "        key,value = pair.split(\"=\")\n",
    "        result[key]=value\n",
    "    return result"
   ]
  },
  {
   "cell_type": "code",
   "execution_count": 4,
   "metadata": {},
   "outputs": [
    {
     "name": "stdout",
     "output_type": "stream",
     "text": [
      "{'foo': 'bar', 'baz': 'qux', 'zap': 'zazzle'}\n"
     ]
    }
   ],
   "source": [
    "kv_string=\"foo=bar&baz=qux&zap=zazzle\"\n",
    "parsed_result=parse_kv_string(kv_string)\n",
    "print(parsed_result)"
   ]
  },
  {
   "cell_type": "code",
   "execution_count": 6,
   "metadata": {},
   "outputs": [],
   "source": [
    "from Crypto.Cipher import AES\n",
    "from Crypto.Random import get_random_bytes\n",
    "from Crypto.Util.Padding import pad, unpad"
   ]
  },
  {
   "cell_type": "code",
   "execution_count": 9,
   "metadata": {},
   "outputs": [],
   "source": [
    "def profile_for(email):\n",
    "    clean_email=email.replace('&','').replace('=','')\n",
    "    return f\"email={clean_email}&uid=10&role=user\""
   ]
  },
  {
   "cell_type": "code",
   "execution_count": null,
   "metadata": {},
   "outputs": [],
   "source": []
  },
  {
   "cell_type": "code",
   "execution_count": 41,
   "metadata": {},
   "outputs": [
    {
     "name": "stdout",
     "output_type": "stream",
     "text": [
      "{'email': 'foo@bar.com', 'uid': '10', 'role': 'user'}\n"
     ]
    }
   ],
   "source": [
    "def generate_random_key():\n",
    "    return get_random_bytes(16)\n",
    "\n",
    "def encrypt_profile(profile, key):\n",
    "    cipher = AES.new(key, AES.MODE_ECB)\n",
    "    ciphertext = cipher.encrypt(pad(profile.encode('utf-8'), AES.block_size))\n",
    "    return ciphertext\n",
    "\n",
    "\n",
    "def decrypt_and_parse_profile(ciphertext, key):\n",
    "    cipher = AES.new(key, AES.MODE_ECB)\n",
    "    decrypted_profile = unpad(cipher.decrypt(ciphertext), AES.block_size)\n",
    "    return parse_kv_string(decrypted_profile.decode('utf-8'))\n",
    "\n",
    "# Example usage:\n",
    "key = generate_random_key()\n",
    "ciphertext = encrypt_profile(profile_for(\"foo@bar.com\"), key)\n",
    "decrypted_profile = decrypt_and_parse_profile(ciphertext, key)\n",
    "print(decrypted_profile)\n",
    "\n"
   ]
  },
  {
   "cell_type": "code",
   "execution_count": 50,
   "metadata": {},
   "outputs": [
    {
     "name": "stdout",
     "output_type": "stream",
     "text": [
      "48\n",
      "{'email': 'aaaaaaaaaaadmin\\x0b\\x0b\\x0b\\x0b\\x0b\\x0b\\x0b\\x0b\\x0b\\x0b\\x0b\\x0b\\x0b\\x0b', 'uid': '10', 'role': 'admin'}\n"
     ]
    }
   ],
   "source": [
    "block_size = AES.block_size\n",
    "\n",
    "# Step 2: Determine the length of the prefix\n",
    "prefix_length = len(encrypt_profile(profile_for('a' * block_size), key))\n",
    "print(prefix_length)\n",
    "# Step 3: Craft the email with \"admin\" in its own block\n",
    "crafted_email = 'a' * (block_size - len('email=')) + 'admin' + '\\x0b' * 14\n",
    "\n",
    "# Step 4: Generate the ciphertext\n",
    "crafted_ciphertext = encrypt_profile(profile_for(crafted_email), key)\n",
    "\n",
    "# Step 5: Prepare the ciphertext\n",
    "modified_ciphertext = crafted_ciphertext[:prefix_length] + crafted_ciphertext[block_size:2 * block_size]\n",
    "\n",
    "# Step 6: Decrypt and parse the modified ciphertext\n",
    "decrypted_profile = decrypt_and_parse_profile(modified_ciphertext, key)\n",
    "print(decrypted_profile)\n"
   ]
  },
  {
   "cell_type": "code",
   "execution_count": null,
   "metadata": {},
   "outputs": [],
   "source": []
  }
 ],
 "metadata": {
  "kernelspec": {
   "display_name": "Python 3",
   "language": "python",
   "name": "python3"
  },
  "language_info": {
   "codemirror_mode": {
    "name": "ipython",
    "version": 3
   },
   "file_extension": ".py",
   "mimetype": "text/x-python",
   "name": "python",
   "nbconvert_exporter": "python",
   "pygments_lexer": "ipython3",
   "version": "3.11.7"
  }
 },
 "nbformat": 4,
 "nbformat_minor": 2
}
