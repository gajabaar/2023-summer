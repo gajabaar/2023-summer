{
 "cells": [
  {
   "cell_type": "code",
   "execution_count": 4,
   "metadata": {},
   "outputs": [],
   "source": [
    "from Crypto.Cipher import AES\n",
    "from Crypto.Random import get_random_bytes\n",
    "from Crypto.Util.Padding import pad,unpad"
   ]
  },
  {
   "cell_type": "code",
   "execution_count": 58,
   "metadata": {},
   "outputs": [
    {
     "name": "stdout",
     "output_type": "stream",
     "text": [
      "False\n"
     ]
    }
   ],
   "source": [
    "from Crypto.Cipher import AES\n",
    "from Crypto.Util.Padding import pad, unpad\n",
    "from Crypto.Random import get_random_bytes\n",
    "\n",
    "def generate_random_key():\n",
    "    return get_random_bytes(AES.block_size)\n",
    "\n",
    "def manage_data(data, key):\n",
    "    data = \"comment1=cooking%20MCs;userdata=\" + data + \";comment2=%20like%20a%20pound%20of%20bacon\"\n",
    "    data = data.replace(\";\", \"\").replace(\"=\", \"\")\n",
    "    #print(key)\n",
    "    padded_data = pad(data.encode(), AES.block_size)\n",
    "    cipher = AES.new(key, AES.MODE_CBC, iv=get_random_bytes(AES.block_size))\n",
    "    ciphertext = cipher.encrypt(padded_data)\n",
    "    return ciphertext\n",
    "\n",
    "def decrypt_data(ciphertext, key):\n",
    "    cipher = AES.new(key, AES.MODE_CBC, iv=ciphertext[:AES.block_size])\n",
    "    #print(key)\n",
    "    decrypted_data = unpad(cipher.decrypt(ciphertext[AES.block_size:]), AES.block_size)\n",
    "    decoded_data = decrypted_data.decode(errors='replace')\n",
    "    return \"admin=true\" in decoded_data\n",
    "def bitflip_attack(ciphertext, position):\n",
    "    modified_ciphertext = bytearray(ciphertext)\n",
    "    modified_ciphertext[position] ^= 1  # Flip the least significant bit\n",
    "    return bytes(modified_ciphertext)\n",
    "# Example usage\n",
    "key = generate_random_key()\n",
    "input_data = \"AAAAA;admin=true\"\n",
    "ciphertext = manage_data(input_data, key)\n",
    "#result = decrypt_data(ciphertext, key)\n",
    "#print(result)\n",
    "position_to_flip = AES.block_size + 6  # Choose a position in the second block\n",
    "modified_ciphertext = bitflip_attack(ciphertext, position_to_flip)\n",
    "\n",
    "\n",
    "result = decrypt_data(modified_ciphertext, key)\n",
    "print(result)\n"
   ]
  },
  {
   "cell_type": "code",
   "execution_count": 2,
   "metadata": {},
   "outputs": [],
   "source": []
  }
 ],
 "metadata": {
  "kernelspec": {
   "display_name": "Python 3",
   "language": "python",
   "name": "python3"
  },
  "language_info": {
   "codemirror_mode": {
    "name": "ipython",
    "version": 3
   },
   "file_extension": ".py",
   "mimetype": "text/x-python",
   "name": "python",
   "nbconvert_exporter": "python",
   "pygments_lexer": "ipython3",
   "version": "3.11.7"
  }
 },
 "nbformat": 4,
 "nbformat_minor": 2
}
