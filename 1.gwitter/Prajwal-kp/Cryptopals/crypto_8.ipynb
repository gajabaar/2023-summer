{
 "cells": [
  {
   "cell_type": "code",
   "execution_count": 1,
   "metadata": {},
   "outputs": [],
   "source": [
    "import requests         "
   ]
  },
  {
   "cell_type": "code",
   "execution_count": 76,
   "metadata": {},
   "outputs": [
    {
     "data": {
      "text/plain": [
       "205"
      ]
     },
     "execution_count": 76,
     "metadata": {},
     "output_type": "execute_result"
    }
   ],
   "source": [
    "URL = 'https://cryptopals.com/static/challenge-data/8.txt'\n",
    "ciphertexts = requests.get(URL).text.split(\"\\n\")\n",
    "\n",
    "len(ciphertexts)"
   ]
  },
  {
   "cell_type": "code",
   "execution_count": 77,
   "metadata": {},
   "outputs": [],
   "source": [
    "\n"
   ]
  },
  {
   "cell_type": "code",
   "execution_count": null,
   "metadata": {},
   "outputs": [],
   "source": []
  },
  {
   "cell_type": "code",
   "execution_count": 110,
   "metadata": {},
   "outputs": [
    {
     "name": "stdout",
     "output_type": "stream",
     "text": [
      "Ciphertext 132 Chunk 1 repeats 4 times.\n",
      "Ciphertext 132 Chunk 3 repeats 4 times.\n",
      "Ciphertext 132 Chunk 5 repeats 4 times.\n",
      "Ciphertext 132 Chunk 7 repeats 4 times.\n"
     ]
    }
   ],
   "source": [
    "decoded_cipher = []\n",
    "for hex_string in ciphertexts:\n",
    "    decoded = bytes.fromhex(hex_string)\n",
    "    decoded_cipher.append(decoded)\n",
    "\n",
    "for num, cipher in enumerate(decoded_cipher):\n",
    "    chunks = [cipher[i:i+16] for i in range(0, len(cipher), 16)]\n",
    "\n",
    "    for i, chunk1 in enumerate(chunks):\n",
    "        count = 1  # Initialize count for the current chunk\n",
    "        for j, chunk2 in enumerate(chunks):\n",
    "            if i != j and chunk1 == chunk2:\n",
    "                count += 1\n",
    "\n",
    "        # Print information about repeating chunks\n",
    "        if count > 1:\n",
    "            print(\"Ciphertext\", num, \"Chunk\", i, \"repeats\", count, \"times.\")\n"
   ]
  },
  {
   "cell_type": "code",
   "execution_count": null,
   "metadata": {},
   "outputs": [],
   "source": [
    "\n"
   ]
  },
  {
   "cell_type": "code",
   "execution_count": null,
   "metadata": {},
   "outputs": [],
   "source": []
  },
  {
   "cell_type": "code",
   "execution_count": null,
   "metadata": {},
   "outputs": [],
   "source": []
  }
 ],
 "metadata": {
  "kernelspec": {
   "display_name": "Python 3",
   "language": "python",
   "name": "python3"
  },
  "language_info": {
   "codemirror_mode": {
    "name": "ipython",
    "version": 3
   },
   "file_extension": ".py",
   "mimetype": "text/x-python",
   "name": "python",
   "nbconvert_exporter": "python",
   "pygments_lexer": "ipython3",
   "version": "3.11.7"
  }
 },
 "nbformat": 4,
 "nbformat_minor": 2
}
